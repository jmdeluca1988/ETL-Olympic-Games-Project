{
 "cells": [
  {
   "cell_type": "code",
   "execution_count": 2,
   "id": "365591bf-57ab-402f-82e5-0db09e0a4903",
   "metadata": {},
   "outputs": [
    {
     "name": "stdout",
     "output_type": "stream",
     "text": [
      "root\n",
      " |-- ID: integer (nullable = true)\n",
      " |-- nombre_atleta: string (nullable = true)\n",
      " |-- genero: string (nullable = true)\n",
      " |-- edad: integer (nullable = true)\n",
      " |-- altura: double (nullable = true)\n",
      " |-- peso: double (nullable = true)\n",
      " |-- equipo: string (nullable = true)\n",
      " |-- pais: string (nullable = true)\n",
      " |-- juegos: string (nullable = true)\n",
      " |-- anio: integer (nullable = true)\n",
      " |-- temporada: string (nullable = true)\n",
      " |-- ciudad: string (nullable = true)\n",
      " |-- deporte: string (nullable = true)\n",
      " |-- evento: string (nullable = true)\n",
      " |-- medalla: string (nullable = true)\n",
      "\n"
     ]
    }
   ],
   "source": [
    "from pyspark.sql import SparkSession\n",
    "\n",
    "spark = SparkSession.builder.appName(\"OlympicGamesReportes\").getOrCreate()\n",
    "\n",
    "# Ruta al archivo Parquet de la capa \"Gold\"\n",
    "df_presentacion = spark.read.parquet(\"../processed/olympic_data_cleaned.parquet\")\n",
    "\n",
    "df_presentacion.printSchema()"
   ]
  },
  {
   "cell_type": "code",
   "execution_count": 5,
   "id": "b2701233-9711-4454-ae76-ca27a8ae7fda",
   "metadata": {},
   "outputs": [
    {
     "name": "stdout",
     "output_type": "stream",
     "text": [
      "Guardado OK.\n"
     ]
    }
   ],
   "source": [
    "# REPORTE MEDALLAS POR PAIS SEGUN AÑO\n",
    "\n",
    "from pyspark.sql.functions import col, count\n",
    "\n",
    "# Medallas por país, por año y por medalla\n",
    "medallas_por_pais_anio = df_presentacion.filter(col(\"medalla\") != \"Sin Medalla\") \\\n",
    "                                        .groupBy(\"pais\", \"anio\", \"medalla\") \\\n",
    "                                        .agg(count(\"*\").alias(\"conteo_medallas\")) \\\n",
    "                                        .orderBy(col(\"anio\"), col(\"pais\"))\n",
    "\n",
    "# Guardado final\n",
    "ruta_medallas_pais_anio = \"../presentacion/medallas_por_pais_anio.parquet\"\n",
    "\n",
    "medallas_por_pais_anio.write.mode(\"overwrite\").parquet(ruta_medallas_pais_anio)\n",
    "\n",
    "print(\"Guardado OK.\")"
   ]
  },
  {
   "cell_type": "code",
   "execution_count": 6,
   "id": "07dd7528-17c6-47d4-97eb-ba86b972f119",
   "metadata": {},
   "outputs": [
    {
     "name": "stdout",
     "output_type": "stream",
     "text": [
      "Guardado OK.\n"
     ]
    }
   ],
   "source": [
    "# REPORTE CONTEO MEDALLAS POR PAIS\n",
    "\n",
    "from pyspark.sql.functions import col, count\n",
    "\n",
    "# Medallas por país\n",
    "ranking_paises = df_presentacion.filter(col(\"medalla\") != \"Sin Medalla\") \\\n",
    "                                .groupBy(\"pais\") \\\n",
    "                                .agg(count(\"*\").alias(\"total_medallas\")) \\\n",
    "                                .orderBy(col(\"total_medallas\").desc())\n",
    "\n",
    "# Guardado final\n",
    "ruta_ranking_paises = \"../presentacion/ranking_paises.parquet\"\n",
    "\n",
    "ranking_paises.write.mode(\"overwrite\").parquet(ruta_ranking_paises)\n",
    "\n",
    "print(\"Guardado OK.\")"
   ]
  },
  {
   "cell_type": "code",
   "execution_count": 7,
   "id": "d3dfef20-774f-4c13-960c-8642bb3957e4",
   "metadata": {},
   "outputs": [
    {
     "name": "stdout",
     "output_type": "stream",
     "text": [
      "Guardado OK\n"
     ]
    }
   ],
   "source": [
    "# REPORTE POR DISCIPLINA\n",
    "\n",
    "from pyspark.sql.functions import col, count, when, avg, countDistinct, round\n",
    "\n",
    "# Participación y promedios por deporte\n",
    "analisis_deporte = df_presentacion.groupBy(\"deporte\") \\\n",
    "                                  .agg(\n",
    "                                      countDistinct(\"ID\").alias(\"total_atletas\"),\n",
    "                                      round(avg(\"edad\"), 2).alias(\"promedio_edad\"),\n",
    "                                      round(avg(\"altura\"), 2).alias(\"promedio_altura\"),\n",
    "                                      round(avg(\"peso\"), 2).alias(\"promedio_peso\"),\n",
    "                                      count(when(col(\"medalla\") == \"Gold\", 1)).alias(\"medallas_oro\"),\n",
    "                                      count(when(col(\"medalla\") == \"Silver\", 1)).alias(\"medallas_plata\"),\n",
    "                                      count(when(col(\"medalla\") == \"Bronze\", 1)).alias(\"medallas_bronce\")\n",
    "                                  ) \\\n",
    "                                  .orderBy(col(\"medallas_oro\").desc())\n",
    "\n",
    "# Guardado final\n",
    "ruta_analisis_deporte = \"../presentacion/analisis_deporte.parquet\"\n",
    "\n",
    "analisis_deporte.write.mode(\"overwrite\").parquet(ruta_analisis_deporte)\n",
    "\n",
    "print(\"Guardado OK\")"
   ]
  },
  {
   "cell_type": "code",
   "execution_count": null,
   "id": "cec34281-b8b8-4239-9bf0-8672d5bf4451",
   "metadata": {},
   "outputs": [],
   "source": []
  }
 ],
 "metadata": {
  "kernelspec": {
   "display_name": "Python 3 (ipykernel)",
   "language": "python",
   "name": "python3"
  },
  "language_info": {
   "codemirror_mode": {
    "name": "ipython",
    "version": 3
   },
   "file_extension": ".py",
   "mimetype": "text/x-python",
   "name": "python",
   "nbconvert_exporter": "python",
   "pygments_lexer": "ipython3",
   "version": "3.12.3"
  }
 },
 "nbformat": 4,
 "nbformat_minor": 5
}
