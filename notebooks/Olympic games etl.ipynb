{
 "cells": [
  {
   "cell_type": "code",
   "execution_count": 96,
   "id": "73f683ed-205d-45c6-9687-f19b51113b70",
   "metadata": {},
   "outputs": [],
   "source": [
    "from pyspark.sql import SparkSession\n",
    "\n",
    "spark = SparkSession.builder.appName(\"Olympic Games\").getOrCreate()"
   ]
  },
  {
   "cell_type": "code",
   "execution_count": 97,
   "id": "441e1291-d8c6-4ef4-83c3-004dbc6d6167",
   "metadata": {
    "scrolled": true
   },
   "outputs": [
    {
     "name": "stdout",
     "output_type": "stream",
     "text": [
      "root\n",
      " |-- ID: integer (nullable = true)\n",
      " |-- Name: string (nullable = true)\n",
      " |-- Sex: string (nullable = true)\n",
      " |-- Age: string (nullable = true)\n",
      " |-- Height: string (nullable = true)\n",
      " |-- Weight: string (nullable = true)\n",
      " |-- Team: string (nullable = true)\n",
      " |-- NOC: string (nullable = true)\n",
      " |-- Games: string (nullable = true)\n",
      " |-- Year: string (nullable = true)\n",
      " |-- Season: string (nullable = true)\n",
      " |-- City: string (nullable = true)\n",
      " |-- Sport: string (nullable = true)\n",
      " |-- Event: string (nullable = true)\n",
      " |-- Medal: string (nullable = true)\n",
      "\n",
      "+---+--------------------+---+---+------+------+--------------+---+-----------+----+------+-----------+--------------------+--------------------+-----+\n",
      "| ID|                Name|Sex|Age|Height|Weight|          Team|NOC|      Games|Year|Season|       City|               Sport|               Event|Medal|\n",
      "+---+--------------------+---+---+------+------+--------------+---+-----------+----+------+-----------+--------------------+--------------------+-----+\n",
      "|  1|           A Dijiang|  M| 24|   180|    80|         China|CHN|1992 Summer|1992|Summer|  Barcelona|          Basketball|Basketball Men's ...|   NA|\n",
      "|  2|            A Lamusi|  M| 23|   170|    60|         China|CHN|2012 Summer|2012|Summer|     London|                Judo|Judo Men's Extra-...|   NA|\n",
      "|  3| Gunnar Nielsen Aaby|  M| 24|    NA|    NA|       Denmark|DEN|1920 Summer|1920|Summer|  Antwerpen|            Football|Football Men's Fo...|   NA|\n",
      "|  4|Edgar Lindenau Aabye|  M| 34|    NA|    NA|Denmark/Sweden|DEN|1900 Summer|1900|Summer|      Paris|          Tug-Of-War|Tug-Of-War Men's ...| Gold|\n",
      "|  5|Christine Jacoba ...|  F| 21|   185|    82|   Netherlands|NED|1988 Winter|1988|Winter|    Calgary|       Speed Skating|Speed Skating Wom...|   NA|\n",
      "|  5|Christine Jacoba ...|  F| 21|   185|    82|   Netherlands|NED|1988 Winter|1988|Winter|    Calgary|       Speed Skating|Speed Skating Wom...|   NA|\n",
      "|  5|Christine Jacoba ...|  F| 25|   185|    82|   Netherlands|NED|1992 Winter|1992|Winter|Albertville|       Speed Skating|Speed Skating Wom...|   NA|\n",
      "|  5|Christine Jacoba ...|  F| 25|   185|    82|   Netherlands|NED|1992 Winter|1992|Winter|Albertville|       Speed Skating|Speed Skating Wom...|   NA|\n",
      "|  5|Christine Jacoba ...|  F| 27|   185|    82|   Netherlands|NED|1994 Winter|1994|Winter|Lillehammer|       Speed Skating|Speed Skating Wom...|   NA|\n",
      "|  5|Christine Jacoba ...|  F| 27|   185|    82|   Netherlands|NED|1994 Winter|1994|Winter|Lillehammer|       Speed Skating|Speed Skating Wom...|   NA|\n",
      "|  6|     Per Knut Aaland|  M| 31|   188|    75| United States|USA|1992 Winter|1992|Winter|Albertville|Cross Country Skiing|Cross Country Ski...|   NA|\n",
      "|  6|     Per Knut Aaland|  M| 31|   188|    75| United States|USA|1992 Winter|1992|Winter|Albertville|Cross Country Skiing|Cross Country Ski...|   NA|\n",
      "|  6|     Per Knut Aaland|  M| 31|   188|    75| United States|USA|1992 Winter|1992|Winter|Albertville|Cross Country Skiing|Cross Country Ski...|   NA|\n",
      "|  6|     Per Knut Aaland|  M| 31|   188|    75| United States|USA|1992 Winter|1992|Winter|Albertville|Cross Country Skiing|Cross Country Ski...|   NA|\n",
      "|  6|     Per Knut Aaland|  M| 33|   188|    75| United States|USA|1994 Winter|1994|Winter|Lillehammer|Cross Country Skiing|Cross Country Ski...|   NA|\n",
      "|  6|     Per Knut Aaland|  M| 33|   188|    75| United States|USA|1994 Winter|1994|Winter|Lillehammer|Cross Country Skiing|Cross Country Ski...|   NA|\n",
      "|  6|     Per Knut Aaland|  M| 33|   188|    75| United States|USA|1994 Winter|1994|Winter|Lillehammer|Cross Country Skiing|Cross Country Ski...|   NA|\n",
      "|  6|     Per Knut Aaland|  M| 33|   188|    75| United States|USA|1994 Winter|1994|Winter|Lillehammer|Cross Country Skiing|Cross Country Ski...|   NA|\n",
      "|  7|        John Aalberg|  M| 31|   183|    72| United States|USA|1992 Winter|1992|Winter|Albertville|Cross Country Skiing|Cross Country Ski...|   NA|\n",
      "|  7|        John Aalberg|  M| 31|   183|    72| United States|USA|1992 Winter|1992|Winter|Albertville|Cross Country Skiing|Cross Country Ski...|   NA|\n",
      "+---+--------------------+---+---+------+------+--------------+---+-----------+----+------+-----------+--------------------+--------------------+-----+\n",
      "only showing top 20 rows\n"
     ]
    }
   ],
   "source": [
    "# Definir el esquema\n",
    "from pyspark.sql.types import StructType, StructField, IntegerType, DoubleType, StringType\n",
    "\n",
    "schema = StructType([\n",
    "    StructField(\"ID\", IntegerType(), True),\n",
    "    StructField(\"Name\", StringType(), True),\n",
    "    StructField(\"Sex\", StringType(), True),\n",
    "    StructField(\"Age\", StringType(), True), \n",
    "    StructField(\"Height\", StringType(), True),\n",
    "    StructField(\"Weight\", StringType(), True), \n",
    "    StructField(\"Team\", StringType(), True),\n",
    "    StructField(\"NOC\", StringType(), True),\n",
    "    StructField(\"Games\", StringType(), True),\n",
    "    StructField(\"Year\", StringType(), True),\n",
    "    StructField(\"Season\", StringType(), True),\n",
    "    StructField(\"City\", StringType(), True),\n",
    "    StructField(\"Sport\", StringType(), True),\n",
    "    StructField(\"Event\", StringType(), True),\n",
    "    StructField(\"Medal\", StringType(), True)\n",
    "])\n",
    "\n",
    "# Carga del dataset\n",
    "\n",
    "df = spark.read.csv(\"C:/Users/Usuario/ETL olympic games/raw/athlete_events.csv\", header=True, schema=schema)\n",
    "\n",
    "# Ver schema y tipos de datos\n",
    "df.printSchema()\n",
    "df.show()"
   ]
  },
  {
   "cell_type": "code",
   "execution_count": 126,
   "id": "f7352c71-8ee5-493b-9085-0eec9b6339d7",
   "metadata": {
    "scrolled": true
   },
   "outputs": [
    {
     "name": "stdout",
     "output_type": "stream",
     "text": [
      "Esquema después de las transformaciones e imputación:\n",
      "root\n",
      " |-- ID: integer (nullable = true)\n",
      " |-- nombre_atleta: string (nullable = true)\n",
      " |-- genero: string (nullable = true)\n",
      " |-- edad: integer (nullable = true)\n",
      " |-- altura: double (nullable = false)\n",
      " |-- peso: double (nullable = false)\n",
      " |-- equipo: string (nullable = true)\n",
      " |-- pais: string (nullable = true)\n",
      " |-- juegos: string (nullable = true)\n",
      " |-- anio: integer (nullable = true)\n",
      " |-- temporada: string (nullable = true)\n",
      " |-- ciudad: string (nullable = true)\n",
      " |-- deporte: string (nullable = true)\n",
      " |-- evento: string (nullable = true)\n",
      " |-- medalla: string (nullable = true)\n",
      "\n",
      "Muestra del DataFrame final:\n",
      "+---+--------------------+------+----+------+-----+--------------+----+-----------+----+---------+---------+-------------+--------------------+-----------+\n",
      "| ID|       nombre_atleta|genero|edad|altura| peso|        equipo|pais|     juegos|anio|temporada|   ciudad|      deporte|              evento|    medalla|\n",
      "+---+--------------------+------+----+------+-----+--------------+----+-----------+----+---------+---------+-------------+--------------------+-----------+\n",
      "|  1|           A Dijiang|     M|  24| 180.0| 80.0|         China| CHN|1992 Summer|1992|   Summer|Barcelona|   Basketball|Basketball Men's ...|Sin Medalla|\n",
      "|  2|            A Lamusi|     M|  23| 170.0| 60.0|         China| CHN|2012 Summer|2012|   Summer|   London|         Judo|Judo Men's Extra-...|Sin Medalla|\n",
      "|  3| Gunnar Nielsen Aaby|     M|  24|174.86|70.95|       Denmark| DEN|1920 Summer|1920|   Summer|Antwerpen|     Football|Football Men's Fo...|Sin Medalla|\n",
      "|  4|Edgar Lindenau Aabye|     M|  34|174.86|70.95|Denmark/Sweden| DEN|1900 Summer|1900|   Summer|    Paris|   Tug-Of-War|Tug-Of-War Men's ...|       Gold|\n",
      "|  5|Christine Jacoba ...|     F|  21| 185.0| 82.0|   Netherlands| NED|1988 Winter|1988|   Winter|  Calgary|Speed Skating|Speed Skating Wom...|Sin Medalla|\n",
      "+---+--------------------+------+----+------+-----+--------------+----+-----------+----+---------+---------+-------------+--------------------+-----------+\n",
      "only showing top 5 rows\n"
     ]
    }
   ],
   "source": [
    "# Renombrar columnas, cambiar tipos de datos y manejo de nulos/NA\n",
    "\n",
    "from pyspark.sql.functions import col, coalesce, when, lit, mean, sum, round, regexp_extract\n",
    "from pyspark.sql.types import IntegerType, DoubleType\n",
    "\n",
    "# Renombrar columnas en castellano y minúscula\n",
    "df_modificado = df.withColumnRenamed(\"Name\", \"nombre_atleta\") \\\n",
    "                  .withColumnRenamed(\"Sex\", \"genero\") \\\n",
    "                  .withColumnRenamed(\"Age\", \"edad\") \\\n",
    "                  .withColumnRenamed(\"Height\", \"altura\") \\\n",
    "                  .withColumnRenamed(\"Weight\", \"peso\") \\\n",
    "                  .withColumnRenamed(\"Team\", \"equipo\") \\\n",
    "                  .withColumnRenamed(\"NOC\", \"pais\") \\\n",
    "                  .withColumnRenamed(\"Games\", \"juegos\") \\\n",
    "                  .withColumnRenamed(\"Year\", \"anio\") \\\n",
    "                  .withColumnRenamed(\"Season\", \"temporada\") \\\n",
    "                  .withColumnRenamed(\"City\", \"ciudad\") \\\n",
    "                  .withColumnRenamed(\"Sport\", \"deporte\") \\\n",
    "                  .withColumnRenamed(\"Event\", \"evento\") \\\n",
    "                  .withColumnRenamed(\"Medal\", \"medalla\")\n",
    "\n",
    "# Reemplazar 'NA' con 'Sin Medalla' en la columna medalla\n",
    "df_modificado = df_modificado.withColumn(\"medalla\", when(col(\"medalla\") == \"NA\", \"Sin Medalla\").otherwise(col(\"medalla\")))\n",
    "\n",
    "# Extraer el año numérico de la columna 'anio'\n",
    "\n",
    "df_modificado = df_modificado.withColumn(\"anio\", regexp_extract(col(\"anio\"), \"\\\\d{4}\", 0))\n",
    "df_modificado = df_modificado.withColumn(\"anio\", when(col(\"anio\") == \"\", lit(None)).otherwise(col(\"anio\")).cast(IntegerType()))\n",
    "\n",
    "# Limpiar y convertir otras columnas\n",
    "df_modificado = df_modificado.withColumn(\"edad\", when(col(\"edad\").rlike(\"^[0-9]+$\"), col(\"edad\")).otherwise(lit(None)).cast(IntegerType())) \\\n",
    "                             .withColumn(\"altura\", when(col(\"altura\").rlike(\"^[0-9.]+$\"), col(\"altura\")).otherwise(lit(None)).cast(DoubleType())) \\\n",
    "                             .withColumn(\"peso\", when(col(\"peso\").rlike(\"^[0-9.]+$\"), col(\"peso\")).otherwise(lit(None)).cast(DoubleType()))\n",
    "\n",
    "# Calcular las medias para imputación\n",
    "medias = df_modificado.agg(round(mean(col(\"altura\")), 2).alias(\"media_altura\"),\n",
    "                                       round(mean(col(\"peso\")), 2).alias(\"media_peso\")).first().asDict()\n",
    "\n",
    "mean_altura = medias[\"media_altura\"]\n",
    "mean_peso = medias[\"media_peso\"]\n",
    "\n",
    "# Rellenar los valores nulos con las medias\n",
    "imputacion = {\n",
    "    \"altura\": mean_altura,\n",
    "    \"peso\": mean_peso\n",
    "}\n",
    "\n",
    "df_modificado = df_modificado.fillna(imputacion)\n",
    "\n",
    "# Mostrar el esquema final para verificar los tipos de datos\n",
    "print(\"Esquema después de las transformaciones e imputación:\")\n",
    "df_modificado.printSchema()\n",
    "\n",
    "# Mostrar una muestra del DataFrame final\n",
    "print(\"Muestra del DataFrame final:\")\n",
    "df_modificado.show(5)"
   ]
  },
  {
   "cell_type": "code",
   "execution_count": 127,
   "id": "69e1c51e-afba-4fb5-867d-e7d115340e7a",
   "metadata": {},
   "outputs": [
    {
     "name": "stdout",
     "output_type": "stream",
     "text": [
      "+---------------------------------------------------+----------+------------------+\n",
      "|nombre_atleta                                      |deporte   |total_medallas_oro|\n",
      "+---------------------------------------------------+----------+------------------+\n",
      "|Michael Fred Phelps, II                            |Swimming  |23                |\n",
      "|\"Raymond Clarence \"\"Ray\"\" Ewry\"                    |Athletics |10                |\n",
      "|Larysa Semenivna Latynina (Diriy-)                 |Gymnastics|9                 |\n",
      "|\"Frederick Carlton \"\"Carl\"\" Lewis\"                 |Athletics |9                 |\n",
      "|Paavo Johannes Nurmi                               |Athletics |9                 |\n",
      "|Mark Andrew Spitz                                  |Swimming  |9                 |\n",
      "|Usain St. Leo Bolt                                 |Athletics |8                 |\n",
      "|\"Matthew Nicholas \"\"Matt\"\" Biondi\"                 |Swimming  |8                 |\n",
      "|Ole Einar Bjrndalen                                |Biathlon  |8                 |\n",
      "|Birgit Fischer-Schmidt                             |Canoeing  |8                 |\n",
      "|Sawao Kato                                         |Gymnastics|8                 |\n",
      "|\"Jennifer Elisabeth \"\"Jenny\"\" Thompson (-Cumpelik)\"|Swimming  |8                 |\n",
      "|Nikolay Yefimovich Andrianov                       |Gymnastics|7                 |\n",
      "|Viktor Ivanovych Chukarin                          |Gymnastics|7                 |\n",
      "|Vra slavsk (-Odloilov)                             |Gymnastics|7                 |\n",
      "|Aladr Gerevich (-Gerei)                            |Fencing   |7                 |\n",
      "|\"Donald Arthur \"\"Don\"\" Schollander\"                |Swimming  |7                 |\n",
      "|Borys Anfiyanovych Shakhlin                        |Gymnastics|7                 |\n",
      "|Allyson Michelle Felix                             |Athletics |6                 |\n",
      "|Gert Fridolf Fredriksson                           |Canoeing  |6                 |\n",
      "+---------------------------------------------------+----------+------------------+\n",
      "only showing top 20 rows\n"
     ]
    }
   ],
   "source": [
    "# Query para ver si la base de datos está OK\n",
    "\n",
    "df_modificado.createOrReplaceTempView(\"datos_finales\")\n",
    "\n",
    "sql_query = \"\"\"\n",
    "SELECT\n",
    "    nombre_atleta,\n",
    "    deporte,\n",
    "    COUNT(*) AS total_medallas_oro\n",
    "FROM\n",
    "    datos_finales\n",
    "WHERE\n",
    "    medalla = 'Gold'\n",
    "GROUP BY\n",
    "    nombre_atleta, deporte\n",
    "ORDER BY\n",
    "    total_medallas_oro DESC\n",
    "\"\"\"\n",
    "\n",
    "spark.sql(sql_query).show(truncate=False)"
   ]
  },
  {
   "cell_type": "code",
   "execution_count": 130,
   "id": "3ca09c57-a300-41c1-9f75-3ed1119d4a99",
   "metadata": {},
   "outputs": [
    {
     "name": "stdout",
     "output_type": "stream",
     "text": [
      "Datos procesados cargados con éxito en la carpeta '../processed/olympic_data_cleaned.parquet'.\n"
     ]
    }
   ],
   "source": [
    "# Guardar dataframe modificado en formato parquet\n",
    "\n",
    "ruta = \"../processed/olympic_data_cleaned.parquet\"\n",
    "df_modificado.write.mode(\"overwrite\").parquet(ruta)\n",
    "\n",
    "print(f\"Datos procesados cargados con éxito en la carpeta '{ruta}'.\")\n",
    "\n"
   ]
  },
  {
   "cell_type": "code",
   "execution_count": 132,
   "id": "4132a8d5-5def-462d-b3f5-34295e99838f",
   "metadata": {},
   "outputs": [
    {
     "name": "stdout",
     "output_type": "stream",
     "text": [
      "Sesión de Spark finalizada.\n"
     ]
    }
   ],
   "source": [
    "# Finalizar la sesión de Spark\n",
    "spark.stop()\n",
    "\n",
    "print(\"Sesión de Spark finalizada.\")"
   ]
  },
  {
   "cell_type": "code",
   "execution_count": null,
   "id": "e658ab1b-6173-4e62-b696-57c78958008d",
   "metadata": {},
   "outputs": [],
   "source": []
  }
 ],
 "metadata": {
  "kernelspec": {
   "display_name": "Python 3 (ipykernel)",
   "language": "python",
   "name": "python3"
  },
  "language_info": {
   "codemirror_mode": {
    "name": "ipython",
    "version": 3
   },
   "file_extension": ".py",
   "mimetype": "text/x-python",
   "name": "python",
   "nbconvert_exporter": "python",
   "pygments_lexer": "ipython3",
   "version": "3.12.3"
  }
 },
 "nbformat": 4,
 "nbformat_minor": 5
}
